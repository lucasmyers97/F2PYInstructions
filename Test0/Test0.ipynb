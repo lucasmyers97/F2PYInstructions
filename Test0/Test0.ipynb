{
 "cells": [
  {
   "cell_type": "markdown",
   "metadata": {},
   "source": [
    "# Hello World F2PY\n",
    "This tests a quick hello world program for using the f2py python/fortran\n",
    "package.\n",
    "\n",
    "Lucas Myers\n",
    "\n",
    "Written: July 15, 2020"
   ]
  },
  {
   "cell_type": "markdown",
   "metadata": {},
   "source": [
    "### Import the F2PY package and then read in the source from the appropriate `.f` file -- check what it says"
   ]
  },
  {
   "cell_type": "code",
   "execution_count": 1,
   "metadata": {},
   "outputs": [
    {
     "name": "stdout",
     "output_type": "stream",
     "text": [
      "\n",
      "      subroutine foo\n",
      "      print*, \"Hello world!\"\n",
      "      end\n"
     ]
    }
   ],
   "source": [
    "import numpy.f2py\n",
    "\n",
    "with open('hello.f') as file:\n",
    "    source = file.read()\n",
    "    \n",
    "print(source)"
   ]
  },
  {
   "cell_type": "markdown",
   "metadata": {},
   "source": [
    "### Set the module name, specify compiler (`verbose=0` just keeps it from outputting compiler nonsense)"
   ]
  },
  {
   "cell_type": "code",
   "execution_count": 2,
   "metadata": {},
   "outputs": [
    {
     "name": "stdout",
     "output_type": "stream",
     "text": [
      "0\n"
     ]
    }
   ],
   "source": [
    "args = ['--compiler=mingw32']\n",
    "module = 'hello'\n",
    "    \n",
    "a = numpy.f2py.compile(source, modulename=module, extra_args=args, verbose=0)\n",
    "print(a)"
   ]
  },
  {
   "cell_type": "markdown",
   "metadata": {},
   "source": [
    "### Import the compiled module and check that it works"
   ]
  },
  {
   "cell_type": "code",
   "execution_count": 3,
   "metadata": {},
   "outputs": [],
   "source": [
    "import hello\n",
    "hello.foo()"
   ]
  }
 ],
 "metadata": {
  "kernelspec": {
   "display_name": "Python 3",
   "language": "python",
   "name": "python3"
  },
  "language_info": {
   "codemirror_mode": {
    "name": "ipython",
    "version": 3
   },
   "file_extension": ".py",
   "mimetype": "text/x-python",
   "name": "python",
   "nbconvert_exporter": "python",
   "pygments_lexer": "ipython3",
   "version": "3.7.3"
  }
 },
 "nbformat": 4,
 "nbformat_minor": 4
}
