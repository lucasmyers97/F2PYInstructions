{
 "cells": [
  {
   "cell_type": "markdown",
   "metadata": {},
   "source": [
    "# Single script Fibonacci F2PY Test -- \"The quick way\"\n",
    "\n",
    "This tests a basic fibonacci number generator fortran program.\n",
    "\n",
    "Lucas Myers\n",
    "\n",
    "Written: July 15, 2020"
   ]
  },
  {
   "cell_type": "markdown",
   "metadata": {},
   "source": [
    "### Import F2PY, read source file, print out contents"
   ]
  },
  {
   "cell_type": "code",
   "execution_count": 1,
   "metadata": {},
   "outputs": [
    {
     "name": "stdout",
     "output_type": "stream",
     "text": [
      "C FILE: FIB1.F\n",
      "      SUBROUTINE FIB(A,N)\n",
      "C\n",
      "C     CALCULATE FIRST N FIBONACCI NUMBERS\n",
      "C\n",
      "      INTEGER N\n",
      "      REAL*8 A(N)\n",
      "      DO I=1,N\n",
      "         IF (I.EQ.1) THEN\n",
      "            A(I) = 0.0D0\n",
      "         ELSEIF (I.EQ.2) THEN\n",
      "            A(I) = 1.0D0\n",
      "         ELSE \n",
      "            A(I) = A(I-1) + A(I-2)\n",
      "         ENDIF\n",
      "      ENDDO\n",
      "      RETURN\n",
      "      END\n",
      "C END FILE FIB1.F\n"
     ]
    }
   ],
   "source": [
    "import numpy.f2py\n",
    "\n",
    "with open('fib1.f') as file:\n",
    "    source = file.read()\n",
    "    \n",
    "print(source)"
   ]
  },
  {
   "cell_type": "markdown",
   "metadata": {},
   "source": [
    "### Name module, specify compiler, compile"
   ]
  },
  {
   "cell_type": "code",
   "execution_count": 2,
   "metadata": {},
   "outputs": [
    {
     "name": "stdout",
     "output_type": "stream",
     "text": [
      "0\n"
     ]
    }
   ],
   "source": [
    "args = ['--compiler=mingw32']\n",
    "module = 'fib1'\n",
    "\n",
    "failure = numpy.f2py.compile(source, modulename=module, \n",
    "                             extra_args=args, verbose=False)\n",
    "print(failure)"
   ]
  },
  {
   "cell_type": "code",
   "execution_count": 3,
   "metadata": {},
   "outputs": [
    {
     "name": "stdout",
     "output_type": "stream",
     "text": [
      "[ 0.  1.  1.  2.  3.  5.  8. 13.]\n"
     ]
    }
   ],
   "source": [
    "import numpy as np\n",
    "import fib1\n",
    "\n",
    "a = np.zeros(8, 'd')\n",
    "fib1.fib(a)\n",
    "print(a)"
   ]
  }
 ],
 "metadata": {
  "kernelspec": {
   "display_name": "Python 3",
   "language": "python",
   "name": "python3"
  },
  "language_info": {
   "codemirror_mode": {
    "name": "ipython",
    "version": 3
   },
   "file_extension": ".py",
   "mimetype": "text/x-python",
   "name": "python",
   "nbconvert_exporter": "python",
   "pygments_lexer": "ipython3",
   "version": "3.7.3"
  }
 },
 "nbformat": 4,
 "nbformat_minor": 4
}
