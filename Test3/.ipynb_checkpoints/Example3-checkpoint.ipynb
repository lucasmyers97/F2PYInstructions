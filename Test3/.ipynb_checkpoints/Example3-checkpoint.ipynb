{
 "cells": [
  {
   "cell_type": "markdown",
   "metadata": {},
   "source": [
    "# Compiling Fortran routine with a subroutine in a separate file\n",
    "\n",
    "This code creates a python extension of a Fortran function which produces a fibonacci sequence and then adds one to all the entries. It is meant to show the use of subroutines which live in seprate files.\n",
    "\n",
    "Lucas Myers\n",
    "\n",
    "Written: July 16, 2020"
   ]
  },
  {
   "cell_type": "markdown",
   "metadata": {},
   "source": [
    "### Compile the subroutine, making sure to link the dependency\n",
    "\n",
    "Note that `fibadd1.f` contains a subroutine `fibadd` which calls the original Fibonacci subroutine `fib` from the file `fib1.f`. To compile this, one reads in the source from the file containing the highest level subroutine `fibadd1.f` and then includes the lower level subroutine file `fib1.f` in the extra arguments."
   ]
  },
  {
   "cell_type": "code",
   "execution_count": 1,
   "metadata": {},
   "outputs": [
    {
     "name": "stdout",
     "output_type": "stream",
     "text": [
      "0\n"
     ]
    }
   ],
   "source": [
    "import numpy.f2py\n",
    "\n",
    "with open('fibadd1.f') as file:\n",
    "    source = file.read()\n",
    "module = 'fibadd1'\n",
    "args = ['fib1.f', '--compiler=mingw32']\n",
    "\n",
    "failure = numpy.f2py.compile(source, extra_args=args, \n",
    "                             modulename=module, verbose=False)\n",
    "\n",
    "print(failure)"
   ]
  },
  {
   "cell_type": "markdown",
   "metadata": {},
   "source": [
    "### Test that the compiled subroutine works correctly (creates a list of the Fibonacci numbers +1)"
   ]
  },
  {
   "cell_type": "code",
   "execution_count": 2,
   "metadata": {},
   "outputs": [
    {
     "name": "stdout",
     "output_type": "stream",
     "text": [
      "[ 1.  2.  2.  3.  4.  6.  9. 14.]\n"
     ]
    }
   ],
   "source": [
    "import fibadd1\n",
    "import numpy as np\n",
    "\n",
    "a = np.zeros(8)\n",
    "fibadd1.fibadd(a)\n",
    "print(a)"
   ]
  }
 ],
 "metadata": {
  "kernelspec": {
   "display_name": "Python 3",
   "language": "python",
   "name": "python3"
  },
  "language_info": {
   "codemirror_mode": {
    "name": "ipython",
    "version": 3
   },
   "file_extension": ".py",
   "mimetype": "text/x-python",
   "name": "python",
   "nbconvert_exporter": "python",
   "pygments_lexer": "ipython3",
   "version": "3.7.3"
  }
 },
 "nbformat": 4,
 "nbformat_minor": 4
}
