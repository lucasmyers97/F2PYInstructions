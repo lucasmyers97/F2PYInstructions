{
 "cells": [
  {
   "cell_type": "markdown",
   "metadata": {},
   "source": [
    "# Modifying the Fibonacci program via a signature file to be more pythonic\n",
    "\n",
    "This is an example which creates a `.pyf` file from the given fortran file using the numpy.f2py module. Then it modifies the `.pyf` file and compiles the program\n",
    "\n",
    "Lucas Myers\n",
    "\n",
    "Written: July 15, 2020"
   ]
  },
  {
   "cell_type": "markdown",
   "metadata": {},
   "source": [
    "### Generate `.pyf` file corresponding to Fibonacci program"
   ]
  },
  {
   "cell_type": "code",
   "execution_count": 1,
   "metadata": {},
   "outputs": [
    {
     "name": "stdout",
     "output_type": "stream",
     "text": [
      "Reading fortran codes...\n",
      "\tReading file 'fib1.f' (format:fix,strict)\n",
      "Post-processing...\n",
      "\tBlock: fib2\n",
      "\t\t\tBlock: fib\n",
      "Post-processing (stage 2)...\n",
      "Saving signatures to file \".\\fib1.pyf\"\n",
      "None\n"
     ]
    }
   ],
   "source": [
    "import numpy.f2py\n",
    "\n",
    "args = ['fib1.f', '-m', 'fib2', '-h', 'fib1.pyf']\n",
    "failure = numpy.f2py.run_main(args)\n",
    "print(failure)"
   ]
  },
  {
   "cell_type": "markdown",
   "metadata": {},
   "source": [
    "### Read in the `.pyf` file"
   ]
  },
  {
   "cell_type": "code",
   "execution_count": 2,
   "metadata": {},
   "outputs": [
    {
     "name": "stdout",
     "output_type": "stream",
     "text": [
      "!    -*- f90 -*-\n",
      "! Note: the context of this file is case sensitive.\n",
      "\n",
      "python module fib2 ! in \n",
      "    interface  ! in :fib2\n",
      "        subroutine fib(a,n) ! in :fib2:fib1.f\n",
      "            real*8 dimension(n) :: a\n",
      "            integer, optional,check(len(a)>=n),depend(a) :: n=len(a)\n",
      "        end subroutine fib\n",
      "    end interface \n",
      "end python module fib2\n",
      "\n",
      "! This file was auto-generated with f2py (version:2).\n",
      "! See http://cens.ioc.ee/projects/f2py2e/\n",
      "\n"
     ]
    }
   ],
   "source": [
    "with open('fib1.pyf') as file:\n",
    "    sig_file = file.read()\n",
    "    \n",
    "print(sig_file)"
   ]
  },
  {
   "cell_type": "markdown",
   "metadata": {},
   "source": [
    "### Modify the `.pyf` file, save it as `fib2.pyf`"
   ]
  },
  {
   "cell_type": "code",
   "execution_count": 3,
   "metadata": {},
   "outputs": [],
   "source": [
    "modified_sig_file = \\\n",
    "\"\"\"!    -*- f90 -*-\n",
    "python module fib2 \n",
    "    interface\n",
    "        subroutine fib(a,n)\n",
    "            real*8 dimension(n),intent(out),depend(n) :: a\n",
    "            integer intent(in) :: n\n",
    "        end subroutine fib\n",
    "    end interface \n",
    "end python module fib2\n",
    "\"\"\""
   ]
  },
  {
   "cell_type": "code",
   "execution_count": 4,
   "metadata": {},
   "outputs": [],
   "source": [
    "with open('fib2.pyf', 'w+') as file:\n",
    "    file.write(modified_sig_file)"
   ]
  },
  {
   "cell_type": "markdown",
   "metadata": {},
   "source": [
    "### Now read in the source from the original Fibonacci file and compile the program (note that the module name must match the name specified by `python module` in the `.pyf` signature file."
   ]
  },
  {
   "cell_type": "code",
   "execution_count": 5,
   "metadata": {},
   "outputs": [
    {
     "name": "stdout",
     "output_type": "stream",
     "text": [
      "0\n"
     ]
    }
   ],
   "source": [
    "with open('fib1.f') as file:\n",
    "    source = file.read()\n",
    "    \n",
    "args = ['fib2.pyf', '--compiler=mingw32']\n",
    "module = 'fib2'\n",
    "failure = numpy.f2py.compile(source, modulename=module, extra_args=args, verbose=0)\n",
    "\n",
    "print(failure)"
   ]
  },
  {
   "cell_type": "markdown",
   "metadata": {},
   "source": [
    "### Finally, import the package and see if the whole process worked"
   ]
  },
  {
   "cell_type": "code",
   "execution_count": 6,
   "metadata": {},
   "outputs": [
    {
     "name": "stdout",
     "output_type": "stream",
     "text": [
      "[ 0.  1.  1.  2.  3.  5.  8. 13.]\n"
     ]
    }
   ],
   "source": [
    "import fib2\n",
    "a = fib2.fib(8)\n",
    "print(a)"
   ]
  }
 ],
 "metadata": {
  "kernelspec": {
   "display_name": "Python 3",
   "language": "python",
   "name": "python3"
  },
  "language_info": {
   "codemirror_mode": {
    "name": "ipython",
    "version": 3
   },
   "file_extension": ".py",
   "mimetype": "text/x-python",
   "name": "python",
   "nbconvert_exporter": "python",
   "pygments_lexer": "ipython3",
   "version": "3.7.3"
  }
 },
 "nbformat": 4,
 "nbformat_minor": 4
}
