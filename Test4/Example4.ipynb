{
 "cells": [
  {
   "cell_type": "markdown",
   "metadata": {},
   "source": [
    "# Compiling Fortran routine with a subroutine in a separate file using .pyf signature file to make it more pythonic\n",
    "\n",
    "This code creates a python extension of a Fortran function which produces a fibonacci sequence and then adds one to all the entries. It is meant to test the use of subroutines which live in seprate files, as well as the use of signature files to make the input/output scheme more pythonic.\n",
    "\n",
    "Lucas Myers\n",
    "\n",
    "Written: July 16, 2020"
   ]
  },
  {
   "cell_type": "markdown",
   "metadata": {},
   "source": [
    "### Create signature file\n",
    "\n",
    "Note that `fibadd1.f` contains a subroutine `fibadd` which calls the original Fibonacci subroutine `fib` from the file `fib1.f`. First, we just need `fibadd1.f` to generate a `.pyf` signature file"
   ]
  },
  {
   "cell_type": "code",
   "execution_count": 1,
   "metadata": {},
   "outputs": [
    {
     "name": "stdout",
     "output_type": "stream",
     "text": [
      "Reading fortran codes...\n",
      "\tReading file 'fibadd1.f' (format:fix,strict)\n",
      "Post-processing...\n",
      "\tBlock: fibadd1\n",
      "\t\t\tBlock: fibadd\n",
      "Post-processing (stage 2)...\n",
      "Saving signatures to file \".\\fibadd1.pyf\"\n",
      "None\n"
     ]
    }
   ],
   "source": [
    "import numpy.f2py\n",
    "\n",
    "args = ['fibadd1.f', '-m', 'fibadd1', '-h', 'fibadd1.pyf']\n",
    "failure = numpy.f2py.run_main(args)\n",
    "print(failure)"
   ]
  },
  {
   "cell_type": "markdown",
   "metadata": {},
   "source": [
    "### Print out contents of signature file"
   ]
  },
  {
   "cell_type": "code",
   "execution_count": 2,
   "metadata": {},
   "outputs": [
    {
     "name": "stdout",
     "output_type": "stream",
     "text": [
      "!    -*- f90 -*-\n",
      "! Note: the context of this file is case sensitive.\n",
      "\n",
      "python module fibadd1 ! in \n",
      "    interface  ! in :fibadd1\n",
      "        subroutine fibadd(a,n) ! in :fibadd1:fibadd1.f\n",
      "            real*8 dimension(n) :: a\n",
      "            integer, optional,check(len(a)>=n),depend(a) :: n=len(a)\n",
      "        end subroutine fibadd\n",
      "    end interface \n",
      "end python module fibadd1\n",
      "\n",
      "! This file was auto-generated with f2py (version:2).\n",
      "! See http://cens.ioc.ee/projects/f2py2e/\n",
      "\n"
     ]
    }
   ],
   "source": [
    "with open('fibadd1.pyf') as file:\n",
    "    sig_file = file.read()\n",
    "print(sig_file)"
   ]
  },
  {
   "cell_type": "markdown",
   "metadata": {},
   "source": [
    "### Modify signature file to make input/output scheme more pythonic and write to new file"
   ]
  },
  {
   "cell_type": "code",
   "execution_count": 3,
   "metadata": {},
   "outputs": [],
   "source": [
    "modified_sig_file = \\\n",
    "\"\"\"!    -*- f90 -*-\n",
    "python module fibadd2\n",
    "    interface\n",
    "        subroutine fibadd(a,n)\n",
    "            real*8 dimension(n),depend(n),intent(out) :: a\n",
    "            integer intent(in) :: n\n",
    "        end subroutine fibadd\n",
    "    end interface \n",
    "end python module fibadd2\n",
    "\"\"\""
   ]
  },
  {
   "cell_type": "code",
   "execution_count": 4,
   "metadata": {},
   "outputs": [],
   "source": [
    "with open('fibadd2.pyf', 'w+') as file:\n",
    "    file.write(modified_sig_file)"
   ]
  },
  {
   "cell_type": "markdown",
   "metadata": {},
   "source": [
    "### Compile new, more pythonic Fortran code\n",
    "\n",
    "To compile this, one reads in the source from the file containing the highest level subroutine `fibadd1.f` and then includes the lower level subroutine file `fib1.f` in the extra arguments. Additionally, to make the modifications dictated by the signature file, one must also include the name of the signature file in the extra arguments list. Also, make sure that the `modulename` keyword parameter in `numpy.f2py.compile()` matches the module name in the modified `.pyf` signature file."
   ]
  },
  {
   "cell_type": "code",
   "execution_count": 5,
   "metadata": {},
   "outputs": [
    {
     "name": "stdout",
     "output_type": "stream",
     "text": [
      "0\n"
     ]
    }
   ],
   "source": [
    "with open('fibadd1.f') as file:\n",
    "    source = file.read()\n",
    "module = 'fibadd2'\n",
    "args = ['fibadd2.pyf', 'fib1.f', '--compiler=mingw32']\n",
    "\n",
    "failure = numpy.f2py.compile(source, extra_args=args, \n",
    "                             modulename=module, verbose=False)\n",
    "\n",
    "print(failure)"
   ]
  },
  {
   "cell_type": "markdown",
   "metadata": {},
   "source": [
    "### Test output"
   ]
  },
  {
   "cell_type": "code",
   "execution_count": 6,
   "metadata": {},
   "outputs": [
    {
     "name": "stdout",
     "output_type": "stream",
     "text": [
      "[ 1.  2.  2.  3.  4.  6.  9. 14.]\n"
     ]
    }
   ],
   "source": [
    "import fibadd2\n",
    "\n",
    "a = fibadd2.fibadd(8)\n",
    "print(a)"
   ]
  }
 ],
 "metadata": {
  "kernelspec": {
   "display_name": "Python 3",
   "language": "python",
   "name": "python3"
  },
  "language_info": {
   "codemirror_mode": {
    "name": "ipython",
    "version": 3
   },
   "file_extension": ".py",
   "mimetype": "text/x-python",
   "name": "python",
   "nbconvert_exporter": "python",
   "pygments_lexer": "ipython3",
   "version": "3.7.3"
  }
 },
 "nbformat": 4,
 "nbformat_minor": 4
}
